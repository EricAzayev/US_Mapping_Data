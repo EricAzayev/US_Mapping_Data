{
 "cells": [
  {
   "cell_type": "code",
   "execution_count": null,
   "id": "974afe9b",
   "metadata": {},
   "outputs": [
    {
     "name": "stdout",
     "output_type": "stream",
     "text": [
      "        State  2003  2013  2023\n",
      "0     Alabama  18.3  19.0  19.1\n",
      "1      Alaska   9.5  10.1  11.3\n",
      "2     Arizona  15.8  19.1  18.5\n",
      "3    Arkansas  19.3  19.3  20.1\n",
      "4  California  14.5  16.3  15.2\n",
      "Index(['State', '2003', '2013', '2023'], dtype='object')\n"
     ]
    }
   ],
   "source": [
    "import pandas as pd\n",
    "\n",
    "df = pd.read_csv('state_poverty_rates.csv', delimiter=',')\n",
    "print(df.head())\n",
    "print(df.columns)"
   ]
  },
  {
   "cell_type": "code",
   "execution_count": null,
   "id": "81284199",
   "metadata": {},
   "outputs": [
    {
     "name": "stderr",
     "output_type": "stream",
     "text": [
      "2025-09-09 18:22:02.480 Thread 'MainThread': missing ScriptRunContext! This warning can be ignored when running in bare mode.\n",
      "2025-09-09 18:22:02.482 Thread 'MainThread': missing ScriptRunContext! This warning can be ignored when running in bare mode.\n",
      "2025-09-09 18:22:02.484 Thread 'MainThread': missing ScriptRunContext! This warning can be ignored when running in bare mode.\n",
      "2025-09-09 18:22:02.485 Thread 'MainThread': missing ScriptRunContext! This warning can be ignored when running in bare mode.\n",
      "2025-09-09 18:22:02.486 Thread 'MainThread': missing ScriptRunContext! This warning can be ignored when running in bare mode.\n",
      "2025-09-09 18:22:02.488 Thread 'MainThread': missing ScriptRunContext! This warning can be ignored when running in bare mode.\n",
      "2025-09-09 18:22:02.489 Thread 'MainThread': missing ScriptRunContext! This warning can be ignored when running in bare mode.\n",
      "2025-09-09 18:22:02.490 Thread 'MainThread': missing ScriptRunContext! This warning can be ignored when running in bare mode.\n",
      "2025-09-09 18:22:02.492 Thread 'MainThread': missing ScriptRunContext! This warning can be ignored when running in bare mode.\n",
      "2025-09-09 18:22:02.493 Thread 'MainThread': missing ScriptRunContext! This warning can be ignored when running in bare mode.\n",
      "2025-09-09 18:22:02.499 Thread 'MainThread': missing ScriptRunContext! This warning can be ignored when running in bare mode.\n",
      "2025-09-09 18:22:02.501 Thread 'MainThread': missing ScriptRunContext! This warning can be ignored when running in bare mode.\n",
      "2025-09-09 18:22:02.503 Thread 'MainThread': missing ScriptRunContext! This warning can be ignored when running in bare mode.\n",
      "2025-09-09 18:22:02.504 Thread 'MainThread': missing ScriptRunContext! This warning can be ignored when running in bare mode.\n",
      "2025-09-09 18:22:02.512 Thread 'MainThread': missing ScriptRunContext! This warning can be ignored when running in bare mode.\n",
      "2025-09-09 18:22:02.514 Thread 'MainThread': missing ScriptRunContext! This warning can be ignored when running in bare mode.\n",
      "2025-09-09 18:22:02.515 Thread 'MainThread': missing ScriptRunContext! This warning can be ignored when running in bare mode.\n",
      "2025-09-09 18:22:02.516 Thread 'MainThread': missing ScriptRunContext! This warning can be ignored when running in bare mode.\n",
      "2025-09-09 18:22:02.518 Thread 'MainThread': missing ScriptRunContext! This warning can be ignored when running in bare mode.\n",
      "2025-09-09 18:22:02.520 Thread 'MainThread': missing ScriptRunContext! This warning can be ignored when running in bare mode.\n",
      "2025-09-09 18:22:02.524 Thread 'MainThread': missing ScriptRunContext! This warning can be ignored when running in bare mode.\n"
     ]
    }
   ],
   "source": [
    "import streamlit as st\n",
    "import pandas as pd\n",
    "import altair as alt\n",
    "import plotly.express as px\n",
    "\n",
    "\n",
    "st.set_page_config(\n",
    "    page_title=\"State GDP Dashboard\",\n",
    "    page_icon=\":bar_chart:\",\n",
    "    layout=\"wide\",\n",
    "    initial_sidebar_state=\"expanded\",\n",
    ")\n",
    "alt.themes.enable(\"dark\")\n",
    "\n",
    "\n",
    "with st.sidebar:\n",
    "    st.title(\"State Poverty Rates\")\n",
    "    st.markdown(\"## Select State\")\n",
    "\n",
    "    year_list = ['2003', '2013', '2023']\n",
    "    selected_year = st.selectbox('Select a year', year_list, index=2)\n",
    "    df_selected_year = df[['State', str(selected_year)]] ##double check \n",
    "    \n",
    "    \n",
    "    color_theme_list = ['blues', 'cividis', 'greens', 'inferno', 'magma', 'plasma', 'reds', 'rainbow', 'turbo', 'viridis']\n",
    "    selected_color_theme = st.selectbox('Select a color theme', color_theme_list)\n"
   ]
  },
  {
   "cell_type": "code",
   "execution_count": null,
   "id": "5c14505f",
   "metadata": {},
   "outputs": [],
   "source": [
    "def make_heatmap(input_df, input_y, input_x, input_color, input_color_theme):\n",
    "    heatmap = alt.Chart(input_df).mark_rect().encode(\n",
    "            y=alt.Y(f'{input_y}:O', axis=alt.Axis(title=\"Year\", titleFontSize=18, titlePadding=15, titleFontWeight=900, labelAngle=0)),\n",
    "            x=alt.X(f'{input_x}:O', axis=alt.Axis(title=\"\", titleFontSize=18, titlePadding=15, titleFontWeight=900)),\n",
    "            color=alt.Color(f'max({input_color}):Q',\n",
    "                             legend=None,\n",
    "                             scale=alt.Scale(scheme=input_color_theme)),\n",
    "            stroke=alt.value('black'),\n",
    "            strokeWidth=alt.value(0.25),\n",
    "        ).properties(width=900\n",
    "        ).configure_axis(\n",
    "        labelFontSize=12,\n",
    "        titleFontSize=12\n",
    "        ) \n",
    "    # height=300\n",
    "    return heatmap\n",
    "\n",
    "def make_choropleth(input_df, input_id, input_column, input_color_theme):\n",
    "    choropleth = px.choropleth(input_df, locations=input_id, color=input_column, locationmode=\"USA-states\",\n",
    "                               color_continuous_scale=input_color_theme,\n",
    "                               range_color=(0, max(df_selected_year.population)),\n",
    "                               scope=\"usa\",\n",
    "                               labels={'population':'Population'}\n",
    "                              )\n",
    "    choropleth.update_layout(\n",
    "        template='plotly_dark',\n",
    "        plot_bgcolor='rgba(0, 0, 0, 0)',\n",
    "        paper_bgcolor='rgba(0, 0, 0, 0)',\n",
    "        margin=dict(l=0, r=0, t=0, b=0),\n",
    "        height=350\n",
    "    )\n",
    "    return choropleth\n",
    "\n",
    "\n"
   ]
  },
  {
   "cell_type": "code",
   "execution_count": null,
   "id": "7651ea5b",
   "metadata": {},
   "outputs": [],
   "source": [
    "col = st.columns((1.5, 4.5, 2), gap='medium')\n",
    "with col[0]:\n",
    "    st.markdown(\"### Poverty Rate by Year\")\n",
    "    #heatmap = make_heatmap(df, 'Year', 'State', 'Poverty Rate', selected_color_theme)\n",
    "    #st.altair_chart(heatmap, use_container_width=True)\n",
    "\n",
    "with col[1]:\n",
    "    st.markdown('#### Total Population')\n",
    "    \n",
    "    choropleth = make_choropleth(df_selected_year, 'states_code', 'population', selected_color_theme)\n",
    "    st.plotly_chart(choropleth, use_container_width=True)\n",
    "    \n",
    "    heatmap = make_heatmap(df_reshaped, 'year', 'states', 'population', selected_color_theme)\n",
    "    st.altair_chart(heatmap, use_container_width=True)\n",
    "\n",
    "with col[2]:\n",
    "    st.markdown('#### Top States')\n",
    "\n",
    "    st.dataframe(df_selected_year_sorted,\n",
    "                 column_order=(\"states\", \"population\"),\n",
    "                 hide_index=True,\n",
    "                 width=None,\n",
    "                 column_config={\n",
    "                    \"states\": st.column_config.TextColumn(\n",
    "                        \"States\",\n",
    "                    ),\n",
    "                    \"population\": st.column_config.ProgressColumn(\n",
    "                        \"Population\",\n",
    "                        format=\"%f\",\n",
    "                        min_value=0,\n",
    "                        max_value=max(df_selected_year_sorted.population),\n",
    "                     )}\n",
    "                 )\n",
    "    \n",
    "    with st.expander('About', expanded=True):\n",
    "        st.write('''\n",
    "            - Data: [U.S. Census Bureau](<https://www.census.gov/data/datasets/time-series/demo/popest/2010s-state-total.html>).\n",
    "            - :orange[**Gains/Losses**]: states with high inbound/ outbound migration for selected year\n",
    "            - :orange[**States Migration**]: percentage of states with annual inbound/ outbound migration > 50,000\n",
    "            ''')"
   ]
  }
 ],
 "metadata": {
  "kernelspec": {
   "display_name": "base",
   "language": "python",
   "name": "python3"
  },
  "language_info": {
   "codemirror_mode": {
    "name": "ipython",
    "version": 3
   },
   "file_extension": ".py",
   "mimetype": "text/x-python",
   "name": "python",
   "nbconvert_exporter": "python",
   "pygments_lexer": "ipython3",
   "version": "3.13.5"
  }
 },
 "nbformat": 4,
 "nbformat_minor": 5
}
